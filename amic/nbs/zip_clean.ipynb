{
 "cells": [
  {
   "cell_type": "code",
   "execution_count": 1,
   "metadata": {},
   "outputs": [],
   "source": [
    "f = '../data/amic_zips.xlsx'"
   ]
  },
  {
   "cell_type": "code",
   "execution_count": 2,
   "metadata": {},
   "outputs": [],
   "source": [
    "import numpy as np\n",
    "import pandas as pd"
   ]
  },
  {
   "cell_type": "code",
   "execution_count": 3,
   "metadata": {},
   "outputs": [],
   "source": [
    "df = pd.read_excel(f, 'Sheet1')"
   ]
  },
  {
   "cell_type": "code",
   "execution_count": 6,
   "metadata": {},
   "outputs": [],
   "source": [
    "import re\n",
    "def clean_string(s):\n",
    "    \"\"\"remove all non-alphanumeric characters from a string, convert spanish characters to english\"\"\"\n",
    "    s = s.lower()\n",
    "    s = s.replace(\"á\", \"a\").replace(\"é\", \"e\").replace(\"í\", \"i\").replace(\"ó\", \"o\").replace(\"ú\", \"u\").replace(\"ñ\", \"n\").replace(\"ü\", \"u\").replace(\"ç\", \"c\").replace(\"à\", \"a\").replace(\"è\", \"e\").replace(\"ì\", \"i\").replace(\"ò\", \"o\").replace(\"ù\", \"u\").replace(\"ä\", \"a\").replace(\"ë\", \"e\").replace(\"ï\", \"i\").replace(\"ö\", \"o\").replace(\"ü\", \"u\").replace(\"â\", \"a\").replace(\"ê\", \"e\").replace(\"î\", \"i\").replace(\"ô\", \"o\").replace(\"û\", \"u\").replace(\"ã\", \"a\").replace(\"õ\", \"o\").replace(\"ñ\", \"n\").replace(\"ç\", \"c\").replace(\"ß\", \"ss\").replace(\"æ\", \"ae\").replace(\"œ\", \"oe\").replace('/', ' ').replace('_', ' ')\n",
    "    # dont remove spaces or caps\n",
    "    s = re.sub(r'[^a-zA-Z0-9 ]', '', s)\n",
    "    return s"
   ]
  },
  {
   "cell_type": "code",
   "execution_count": 8,
   "metadata": {},
   "outputs": [],
   "source": [
    "df.columns = [clean_string(c) for c in df.columns]\n",
    "df.rename(columns={'mitjans': 'media', 'comarca': 'zipcode'}, inplace=True)"
   ]
  },
  {
   "cell_type": "code",
   "execution_count": 12,
   "metadata": {},
   "outputs": [],
   "source": [
    "df['media'] = df.media.apply(lambda x: x.lower().strip())"
   ]
  },
  {
   "cell_type": "code",
   "execution_count": 14,
   "metadata": {},
   "outputs": [],
   "source": [
    "df[['media', 'zipcode']].to_csv('../data/amic_zips.csv', index=False)"
   ]
  },
  {
   "cell_type": "code",
   "execution_count": null,
   "metadata": {},
   "outputs": [],
   "source": []
  }
 ],
 "metadata": {
  "kernelspec": {
   "display_name": "base",
   "language": "python",
   "name": "python3"
  },
  "language_info": {
   "codemirror_mode": {
    "name": "ipython",
    "version": 3
   },
   "file_extension": ".py",
   "mimetype": "text/x-python",
   "name": "python",
   "nbconvert_exporter": "python",
   "pygments_lexer": "ipython3",
   "version": "3.11.5"
  }
 },
 "nbformat": 4,
 "nbformat_minor": 2
}
