{
 "cells": [
  {
   "cell_type": "code",
   "execution_count": 1,
   "metadata": {},
   "outputs": [],
   "source": [
    "import PyPDF2\n",
    "import requests\n",
    "import io\n",
    "import re\n",
    "from bs4 import BeautifulSoup\n",
    "from tqdm import tqdm"
   ]
  },
  {
   "cell_type": "code",
   "execution_count": 2,
   "metadata": {},
   "outputs": [],
   "source": [
    "pths = '../data/links.csv'"
   ]
  },
  {
   "cell_type": "code",
   "execution_count": 3,
   "metadata": {},
   "outputs": [],
   "source": [
    "import pandas as pd\n",
    "import numpy as np"
   ]
  },
  {
   "cell_type": "code",
   "execution_count": 4,
   "metadata": {},
   "outputs": [
    {
     "data": {
      "text/html": [
       "<div>\n",
       "<style scoped>\n",
       "    .dataframe tbody tr th:only-of-type {\n",
       "        vertical-align: middle;\n",
       "    }\n",
       "\n",
       "    .dataframe tbody tr th {\n",
       "        vertical-align: top;\n",
       "    }\n",
       "\n",
       "    .dataframe thead th {\n",
       "        text-align: right;\n",
       "    }\n",
       "</style>\n",
       "<table border=\"1\" class=\"dataframe\">\n",
       "  <thead>\n",
       "    <tr style=\"text-align: right;\">\n",
       "      <th></th>\n",
       "      <th>TITULO</th>\n",
       "      <th>Link</th>\n",
       "    </tr>\n",
       "  </thead>\n",
       "  <tbody>\n",
       "    <tr>\n",
       "      <th>0</th>\n",
       "      <td>7DIESACTUALITAT.COM</td>\n",
       "      <td>https://www.ojdinteractiva.es/muestra_acta/med...</td>\n",
       "    </tr>\n",
       "    <tr>\n",
       "      <th>1</th>\n",
       "      <td>7TELEVALENCIA.COM</td>\n",
       "      <td>https://www.ojdinteractiva.es/muestra_acta/med...</td>\n",
       "    </tr>\n",
       "    <tr>\n",
       "      <th>2</th>\n",
       "      <td>ACTUALIDADCASTELLON.COM</td>\n",
       "      <td>https://www.ojdinteractiva.es/muestra_acta/med...</td>\n",
       "    </tr>\n",
       "    <tr>\n",
       "      <th>3</th>\n",
       "      <td>ACTUALIDADVALENCIA.COM</td>\n",
       "      <td>https://www.ojdinteractiva.es/muestra_acta/med...</td>\n",
       "    </tr>\n",
       "    <tr>\n",
       "      <th>4</th>\n",
       "      <td>AGENDADEISA.COM</td>\n",
       "      <td>https://www.ojdinteractiva.es/muestra_acta/med...</td>\n",
       "    </tr>\n",
       "    <tr>\n",
       "      <th>...</th>\n",
       "      <td>...</td>\n",
       "      <td>...</td>\n",
       "    </tr>\n",
       "    <tr>\n",
       "      <th>333</th>\n",
       "      <td>URGELLTV.CAT</td>\n",
       "      <td>https://www.ojdinteractiva.es/muestra_acta/mit...</td>\n",
       "    </tr>\n",
       "    <tr>\n",
       "      <th>334</th>\n",
       "      <td>21RADIO.CAT</td>\n",
       "      <td>https://www.ojdinteractiva.es/muestra_acta/mit...</td>\n",
       "    </tr>\n",
       "    <tr>\n",
       "      <th>335</th>\n",
       "      <td>AUE.CAT</td>\n",
       "      <td>https://www.ojdinteractiva.es/muestra_acta/mit...</td>\n",
       "    </tr>\n",
       "    <tr>\n",
       "      <th>336</th>\n",
       "      <td>FEMBASE.CAT</td>\n",
       "      <td>https://www.ojdinteractiva.es/muestra_acta/mit...</td>\n",
       "    </tr>\n",
       "    <tr>\n",
       "      <th>337</th>\n",
       "      <td>AMICIB.MEDIA</td>\n",
       "      <td>https://www.ojdinteractiva.es/muestra_acta/mit...</td>\n",
       "    </tr>\n",
       "  </tbody>\n",
       "</table>\n",
       "<p>338 rows × 2 columns</p>\n",
       "</div>"
      ],
      "text/plain": [
       "                      TITULO  \\\n",
       "0        7DIESACTUALITAT.COM   \n",
       "1          7TELEVALENCIA.COM   \n",
       "2    ACTUALIDADCASTELLON.COM   \n",
       "3     ACTUALIDADVALENCIA.COM   \n",
       "4            AGENDADEISA.COM   \n",
       "..                       ...   \n",
       "333             URGELLTV.CAT   \n",
       "334              21RADIO.CAT   \n",
       "335                  AUE.CAT   \n",
       "336              FEMBASE.CAT   \n",
       "337             AMICIB.MEDIA   \n",
       "\n",
       "                                                  Link  \n",
       "0    https://www.ojdinteractiva.es/muestra_acta/med...  \n",
       "1    https://www.ojdinteractiva.es/muestra_acta/med...  \n",
       "2    https://www.ojdinteractiva.es/muestra_acta/med...  \n",
       "3    https://www.ojdinteractiva.es/muestra_acta/med...  \n",
       "4    https://www.ojdinteractiva.es/muestra_acta/med...  \n",
       "..                                                 ...  \n",
       "333  https://www.ojdinteractiva.es/muestra_acta/mit...  \n",
       "334  https://www.ojdinteractiva.es/muestra_acta/mit...  \n",
       "335  https://www.ojdinteractiva.es/muestra_acta/mit...  \n",
       "336  https://www.ojdinteractiva.es/muestra_acta/mit...  \n",
       "337  https://www.ojdinteractiva.es/muestra_acta/mit...  \n",
       "\n",
       "[338 rows x 2 columns]"
      ]
     },
     "execution_count": 4,
     "metadata": {},
     "output_type": "execute_result"
    }
   ],
   "source": [
    "df = pd.read_csv(pths)\n",
    "df"
   ]
  },
  {
   "cell_type": "code",
   "execution_count": 5,
   "metadata": {},
   "outputs": [],
   "source": [
    "def get_pdf_text_from_link(link):\n",
    "    '''get pdf text from link of pdf'''\n",
    "    response = requests.get(link)\n",
    "    pdf = PyPDF2.PdfReader(io.BytesIO(response.content))\n",
    "    text = ''\n",
    "    for i in range(len(pdf.pages)):\n",
    "        text += pdf.pages[i].extract_text()\n",
    "    return text\n"
   ]
  },
  {
   "cell_type": "code",
   "execution_count": 6,
   "metadata": {},
   "outputs": [
    {
     "name": "stderr",
     "output_type": "stream",
     "text": [
      "  0%|          | 0/338 [00:00<?, ?it/s]"
     ]
    },
    {
     "name": "stderr",
     "output_type": "stream",
     "text": [
      "100%|██████████| 338/338 [17:19<00:00,  3.08s/it]\n"
     ]
    }
   ],
   "source": [
    "# pdf_texts = df['Link'].apply(get_pdf_text_from_link)\n",
    "for i in tqdm(range(len(df))):\n",
    "    try:\n",
    "        df.loc[i, 'Text'] = get_pdf_text_from_link(df.loc[i, 'Link'])\n",
    "    except:\n",
    "        df.loc[i, 'Text'] = np.nan\n",
    "        print('Error at', i)"
   ]
  },
  {
   "cell_type": "code",
   "execution_count": 7,
   "metadata": {},
   "outputs": [],
   "source": [
    "# extract zipcode from this pattern : Ciudad: 46002 VALENCIA, starts with Ciudad: , then 5 or 6 digits\n",
    "def extract_zipcode(text):\n",
    "    '''extract zipcode from text'''\n",
    "    pattern = r'Ciudad: \\d{5,6}'\n",
    "    zipcode = re.search(pattern, text)\n",
    "    if zipcode:\n",
    "        return zipcode.group().split(' ')[1]\n",
    "    else:\n",
    "        pattern = r'Ciutat: \\d{5,6}'\n",
    "        zipcode = re.search(pattern, text)\n",
    "        if zipcode:\n",
    "            return zipcode.group().split(' ')[1]\n",
    "        else:\n",
    "            return np.nan\n"
   ]
  },
  {
   "cell_type": "code",
   "execution_count": 8,
   "metadata": {},
   "outputs": [
    {
     "data": {
      "text/html": [
       "<div>\n",
       "<style scoped>\n",
       "    .dataframe tbody tr th:only-of-type {\n",
       "        vertical-align: middle;\n",
       "    }\n",
       "\n",
       "    .dataframe tbody tr th {\n",
       "        vertical-align: top;\n",
       "    }\n",
       "\n",
       "    .dataframe thead th {\n",
       "        text-align: right;\n",
       "    }\n",
       "</style>\n",
       "<table border=\"1\" class=\"dataframe\">\n",
       "  <thead>\n",
       "    <tr style=\"text-align: right;\">\n",
       "      <th></th>\n",
       "      <th>TITULO</th>\n",
       "      <th>Link</th>\n",
       "      <th>Text</th>\n",
       "    </tr>\n",
       "  </thead>\n",
       "  <tbody>\n",
       "    <tr>\n",
       "      <th>0</th>\n",
       "      <td>7DIESACTUALITAT.COM</td>\n",
       "      <td>https://www.ojdinteractiva.es/muestra_acta/med...</td>\n",
       "      <td>http://www.ojdinteractiva.es Octubre - 2024\\nA...</td>\n",
       "    </tr>\n",
       "    <tr>\n",
       "      <th>1</th>\n",
       "      <td>7TELEVALENCIA.COM</td>\n",
       "      <td>https://www.ojdinteractiva.es/muestra_acta/med...</td>\n",
       "      <td>http://www.ojdinteractiva.es Octubre - 2024\\nA...</td>\n",
       "    </tr>\n",
       "    <tr>\n",
       "      <th>2</th>\n",
       "      <td>ACTUALIDADCASTELLON.COM</td>\n",
       "      <td>https://www.ojdinteractiva.es/muestra_acta/med...</td>\n",
       "      <td>http://www.ojdinteractiva.es Octubre - 2024\\nA...</td>\n",
       "    </tr>\n",
       "    <tr>\n",
       "      <th>3</th>\n",
       "      <td>ACTUALIDADVALENCIA.COM</td>\n",
       "      <td>https://www.ojdinteractiva.es/muestra_acta/med...</td>\n",
       "      <td>http://www.ojdinteractiva.es Octubre - 2024\\nA...</td>\n",
       "    </tr>\n",
       "    <tr>\n",
       "      <th>4</th>\n",
       "      <td>AGENDADEISA.COM</td>\n",
       "      <td>https://www.ojdinteractiva.es/muestra_acta/med...</td>\n",
       "      <td>http://www.ojdinteractiva.es Octubre - 2024\\nA...</td>\n",
       "    </tr>\n",
       "    <tr>\n",
       "      <th>...</th>\n",
       "      <td>...</td>\n",
       "      <td>...</td>\n",
       "      <td>...</td>\n",
       "    </tr>\n",
       "    <tr>\n",
       "      <th>333</th>\n",
       "      <td>URGELLTV.CAT</td>\n",
       "      <td>https://www.ojdinteractiva.es/muestra_acta/mit...</td>\n",
       "      <td>http://www.ojdinteractiva.es Octubre - 2024\\nA...</td>\n",
       "    </tr>\n",
       "    <tr>\n",
       "      <th>334</th>\n",
       "      <td>21RADIO.CAT</td>\n",
       "      <td>https://www.ojdinteractiva.es/muestra_acta/mit...</td>\n",
       "      <td>http://www.ojdinteractiva.es Octubre - 2024\\nA...</td>\n",
       "    </tr>\n",
       "    <tr>\n",
       "      <th>335</th>\n",
       "      <td>AUE.CAT</td>\n",
       "      <td>https://www.ojdinteractiva.es/muestra_acta/mit...</td>\n",
       "      <td>http://www.ojdinteractiva.es Octubre - 2024\\nA...</td>\n",
       "    </tr>\n",
       "    <tr>\n",
       "      <th>336</th>\n",
       "      <td>FEMBASE.CAT</td>\n",
       "      <td>https://www.ojdinteractiva.es/muestra_acta/mit...</td>\n",
       "      <td>http://www.ojdinteractiva.es Octubre - 2024\\nA...</td>\n",
       "    </tr>\n",
       "    <tr>\n",
       "      <th>337</th>\n",
       "      <td>AMICIB.MEDIA</td>\n",
       "      <td>https://www.ojdinteractiva.es/muestra_acta/mit...</td>\n",
       "      <td>http://www.ojdinteractiva.es Octubre - 2024\\nA...</td>\n",
       "    </tr>\n",
       "  </tbody>\n",
       "</table>\n",
       "<p>338 rows × 3 columns</p>\n",
       "</div>"
      ],
      "text/plain": [
       "                      TITULO  \\\n",
       "0        7DIESACTUALITAT.COM   \n",
       "1          7TELEVALENCIA.COM   \n",
       "2    ACTUALIDADCASTELLON.COM   \n",
       "3     ACTUALIDADVALENCIA.COM   \n",
       "4            AGENDADEISA.COM   \n",
       "..                       ...   \n",
       "333             URGELLTV.CAT   \n",
       "334              21RADIO.CAT   \n",
       "335                  AUE.CAT   \n",
       "336              FEMBASE.CAT   \n",
       "337             AMICIB.MEDIA   \n",
       "\n",
       "                                                  Link  \\\n",
       "0    https://www.ojdinteractiva.es/muestra_acta/med...   \n",
       "1    https://www.ojdinteractiva.es/muestra_acta/med...   \n",
       "2    https://www.ojdinteractiva.es/muestra_acta/med...   \n",
       "3    https://www.ojdinteractiva.es/muestra_acta/med...   \n",
       "4    https://www.ojdinteractiva.es/muestra_acta/med...   \n",
       "..                                                 ...   \n",
       "333  https://www.ojdinteractiva.es/muestra_acta/mit...   \n",
       "334  https://www.ojdinteractiva.es/muestra_acta/mit...   \n",
       "335  https://www.ojdinteractiva.es/muestra_acta/mit...   \n",
       "336  https://www.ojdinteractiva.es/muestra_acta/mit...   \n",
       "337  https://www.ojdinteractiva.es/muestra_acta/mit...   \n",
       "\n",
       "                                                  Text  \n",
       "0    http://www.ojdinteractiva.es Octubre - 2024\\nA...  \n",
       "1    http://www.ojdinteractiva.es Octubre - 2024\\nA...  \n",
       "2    http://www.ojdinteractiva.es Octubre - 2024\\nA...  \n",
       "3    http://www.ojdinteractiva.es Octubre - 2024\\nA...  \n",
       "4    http://www.ojdinteractiva.es Octubre - 2024\\nA...  \n",
       "..                                                 ...  \n",
       "333  http://www.ojdinteractiva.es Octubre - 2024\\nA...  \n",
       "334  http://www.ojdinteractiva.es Octubre - 2024\\nA...  \n",
       "335  http://www.ojdinteractiva.es Octubre - 2024\\nA...  \n",
       "336  http://www.ojdinteractiva.es Octubre - 2024\\nA...  \n",
       "337  http://www.ojdinteractiva.es Octubre - 2024\\nA...  \n",
       "\n",
       "[338 rows x 3 columns]"
      ]
     },
     "execution_count": 8,
     "metadata": {},
     "output_type": "execute_result"
    }
   ],
   "source": [
    "df"
   ]
  },
  {
   "cell_type": "code",
   "execution_count": 9,
   "metadata": {},
   "outputs": [],
   "source": [
    "zips = df['Text'].apply(extract_zipcode)"
   ]
  },
  {
   "cell_type": "code",
   "execution_count": 10,
   "metadata": {},
   "outputs": [
    {
     "data": {
      "text/plain": [
       "0      12500\n",
       "1      46988\n",
       "2      46007\n",
       "3      46007\n",
       "4      46112\n",
       "       ...  \n",
       "333    25007\n",
       "334    03500\n",
       "335    25007\n",
       "336    25001\n",
       "337    08007\n",
       "Name: Text, Length: 338, dtype: object"
      ]
     },
     "execution_count": 10,
     "metadata": {},
     "output_type": "execute_result"
    }
   ],
   "source": [
    "zips"
   ]
  },
  {
   "cell_type": "code",
   "execution_count": 11,
   "metadata": {},
   "outputs": [],
   "source": [
    "df['zipcode'] = zips"
   ]
  },
  {
   "cell_type": "code",
   "execution_count": 12,
   "metadata": {},
   "outputs": [
    {
     "data": {
      "text/html": [
       "<div>\n",
       "<style scoped>\n",
       "    .dataframe tbody tr th:only-of-type {\n",
       "        vertical-align: middle;\n",
       "    }\n",
       "\n",
       "    .dataframe tbody tr th {\n",
       "        vertical-align: top;\n",
       "    }\n",
       "\n",
       "    .dataframe thead th {\n",
       "        text-align: right;\n",
       "    }\n",
       "</style>\n",
       "<table border=\"1\" class=\"dataframe\">\n",
       "  <thead>\n",
       "    <tr style=\"text-align: right;\">\n",
       "      <th></th>\n",
       "      <th>TITULO</th>\n",
       "      <th>Link</th>\n",
       "      <th>Text</th>\n",
       "      <th>zipcode</th>\n",
       "    </tr>\n",
       "  </thead>\n",
       "  <tbody>\n",
       "    <tr>\n",
       "      <th>7</th>\n",
       "      <td>ALICANTEPLAZA.ES</td>\n",
       "      <td>https://www.ojdinteractiva.es/muestra_acta/med...</td>\n",
       "      <td>http://www.ojdinteractiva.es Octubre - 2024\\nA...</td>\n",
       "      <td>NaN</td>\n",
       "    </tr>\n",
       "    <tr>\n",
       "      <th>211</th>\n",
       "      <td>DIARIANDORRA.AD</td>\n",
       "      <td>https://www.ojdinteractiva.es/muestra_acta/mit...</td>\n",
       "      <td>http://www.ojdinteractiva.es Octubre - 2024\\nA...</td>\n",
       "      <td>NaN</td>\n",
       "    </tr>\n",
       "    <tr>\n",
       "      <th>262</th>\n",
       "      <td>ELPERIÒDIC.AD</td>\n",
       "      <td>https://www.ojdinteractiva.es/muestra_acta/mit...</td>\n",
       "      <td>http://www.ojdinteractiva.es Octubre - 2024\\nA...</td>\n",
       "      <td>NaN</td>\n",
       "    </tr>\n",
       "  </tbody>\n",
       "</table>\n",
       "</div>"
      ],
      "text/plain": [
       "               TITULO                                               Link  \\\n",
       "7    ALICANTEPLAZA.ES  https://www.ojdinteractiva.es/muestra_acta/med...   \n",
       "211   DIARIANDORRA.AD  https://www.ojdinteractiva.es/muestra_acta/mit...   \n",
       "262     ELPERIÒDIC.AD  https://www.ojdinteractiva.es/muestra_acta/mit...   \n",
       "\n",
       "                                                  Text zipcode  \n",
       "7    http://www.ojdinteractiva.es Octubre - 2024\\nA...     NaN  \n",
       "211  http://www.ojdinteractiva.es Octubre - 2024\\nA...     NaN  \n",
       "262  http://www.ojdinteractiva.es Octubre - 2024\\nA...     NaN  "
      ]
     },
     "execution_count": 12,
     "metadata": {},
     "output_type": "execute_result"
    }
   ],
   "source": [
    "df[df.zipcode.isna()]"
   ]
  },
  {
   "cell_type": "code",
   "execution_count": 13,
   "metadata": {},
   "outputs": [],
   "source": [
    "df.rename(columns={'Link': 'pdf_link', 'TITULO': 'media' }, inplace=True)"
   ]
  },
  {
   "cell_type": "code",
   "execution_count": 14,
   "metadata": {},
   "outputs": [],
   "source": [
    "df[['media','pdf_link', 'Text', 'zipcode']].to_csv('../data/links_with_zipcodes_Text.csv', index=False)"
   ]
  },
  {
   "cell_type": "code",
   "execution_count": null,
   "metadata": {},
   "outputs": [],
   "source": []
  },
  {
   "cell_type": "code",
   "execution_count": null,
   "metadata": {},
   "outputs": [],
   "source": []
  }
 ],
 "metadata": {
  "kernelspec": {
   "display_name": "base",
   "language": "python",
   "name": "python3"
  },
  "language_info": {
   "codemirror_mode": {
    "name": "ipython",
    "version": 3
   },
   "file_extension": ".py",
   "mimetype": "text/x-python",
   "name": "python",
   "nbconvert_exporter": "python",
   "pygments_lexer": "ipython3",
   "version": "3.11.5"
  }
 },
 "nbformat": 4,
 "nbformat_minor": 2
}
